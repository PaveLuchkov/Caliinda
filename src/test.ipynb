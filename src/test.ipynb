{
 "cells": [
  {
   "cell_type": "code",
   "execution_count": 16,
   "id": "8b68971c",
   "metadata": {},
   "outputs": [],
   "source": [
    "from datetime import datetime"
   ]
  },
  {
   "cell_type": "code",
   "execution_count": null,
   "id": "97cea807",
   "metadata": {},
   "outputs": [],
   "source": [
    "current_user_time, user_timezone, user_prefered_calendar = datetime.now().replace(microsecond=0), \"Asia/Yekaterinburg\", \"primary\""
   ]
  },
  {
   "cell_type": "code",
   "execution_count": 30,
   "id": "44ca219a",
   "metadata": {},
   "outputs": [
    {
     "name": "stdout",
     "output_type": "stream",
     "text": [
      "Current User Time: 2025-06-08 13:54:26\n",
      "User Timezone: Asia/Yekaterinburg\n",
      "User Preferred Calendar: primary\n"
     ]
    }
   ],
   "source": [
    "print(f\"Current User Time: {current_user_time}\")\n",
    "print(f\"User Timezone: {user_timezone}\")\n",
    "print(f\"User Preferred Calendar: {user_prefered_calendar}\")"
   ]
  }
 ],
 "metadata": {
  "kernelspec": {
   "display_name": "analytics",
   "language": "python",
   "name": "python3"
  },
  "language_info": {
   "codemirror_mode": {
    "name": "ipython",
    "version": 3
   },
   "file_extension": ".py",
   "mimetype": "text/x-python",
   "name": "python",
   "nbconvert_exporter": "python",
   "pygments_lexer": "ipython3",
   "version": "3.12.9"
  }
 },
 "nbformat": 4,
 "nbformat_minor": 5
}
